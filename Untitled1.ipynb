{
  "nbformat": 4,
  "nbformat_minor": 0,
  "metadata": {
    "colab": {
      "provenance": [],
      "authorship_tag": "ABX9TyNWoI7ssI6vRSVxe9UgO356",
      "include_colab_link": true
    },
    "kernelspec": {
      "name": "python3",
      "display_name": "Python 3"
    },
    "language_info": {
      "name": "python"
    }
  },
  "cells": [
    {
      "cell_type": "markdown",
      "metadata": {
        "id": "view-in-github",
        "colab_type": "text"
      },
      "source": [
        "<a href=\"https://colab.research.google.com/github/chiteshk2002/chitesh/blob/master/Untitled1.ipynb\" target=\"_parent\"><img src=\"https://colab.research.google.com/assets/colab-badge.svg\" alt=\"Open In Colab\"/></a>"
      ]
    },
    {
      "cell_type": "code",
      "execution_count": 2,
      "metadata": {
        "colab": {
          "base_uri": "https://localhost:8080/"
        },
        "id": "XVjOVtqw90vU",
        "outputId": "5a972487-8928-4d20-b6db-3a3a6bdbf649"
      },
      "outputs": [
        {
          "output_type": "stream",
          "name": "stdout",
          "text": [
            "Accuracy: 0.54\n",
            "Predicted Winner: Rising Pune Supergiant\n"
          ]
        }
      ],
      "source": [
        "import pandas as pd\n",
        "from sklearn.model_selection import train_test_split\n",
        "from sklearn.ensemble import RandomForestClassifier\n",
        "from sklearn.metrics import accuracy_score  # Import accuracy_score\n",
        "\n",
        "# Step 1: Read the CSV file\n",
        "data = pd.read_csv('/content/matches.csv')  # Replace 'ipl_data.csv' with the actual file name\n",
        "\n",
        "# Step 2: Preprocess the data\n",
        "# Assuming 'team1', 'team2', 'toss_winner', 'toss_decision' are important features\n",
        "features = ['team1', 'team2', 'toss_winner', 'toss_decision']\n",
        "target = 'winner'\n",
        "\n",
        "# Drop rows with missing values\n",
        "data.dropna(subset=[target], inplace=True)\n",
        "\n",
        "# Encoding categorical features using LabelEncoder\n",
        "label_encoders = {}\n",
        "for feature in features + [target]:  # Include the target variable\n",
        "    label_encoders[feature] = LabelEncoder()\n",
        "    data[feature] = label_encoders[feature].fit_transform(data[feature])\n",
        "\n",
        "# Step 3: Split the data into training and testing sets\n",
        "X = data[features]\n",
        "y = data[target]\n",
        "X_train, X_test, y_train, y_test = train_test_split(X, y, test_size=0.2, random_state=42)\n",
        "\n",
        "# Step 4: Choose and train a model (RandomForestClassifier in this example)\n",
        "model = RandomForestClassifier(random_state=42)\n",
        "model.fit(X_train, y_train)\n",
        "\n",
        "# Step 5: Evaluate the model's performance\n",
        "y_pred = model.predict(X_test)\n",
        "accuracy = accuracy_score(y_test, y_pred)\n",
        "print(f\"Accuracy: {accuracy:.2f}\")\n",
        "\n",
        "# Step 6: Use the trained model to predict the winning team for new matches\n",
        "new_match = pd.DataFrame({'team1': ['Mumbai Indians'], 'team2': ['Rising Pune Supergiant'], 'toss_winner': ['Rising Pune Supergiant'], 'toss_decision': ['field']})\n",
        "# Replace with the teams and toss decision of the new match\n",
        "for feature in features:\n",
        "    new_match[feature] = label_encoders[feature].transform(new_match[feature])\n",
        "\n",
        "predicted_winner_encoded = model.predict(new_match)\n",
        "predicted_winner = label_encoders[target].inverse_transform(predicted_winner_encoded)\n",
        "print(f\"Predicted Winner: {predicted_winner[0]}\")"
      ]
    }
  ]
}